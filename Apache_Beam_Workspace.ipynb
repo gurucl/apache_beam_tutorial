{
  "nbformat": 4,
  "nbformat_minor": 0,
  "metadata": {
    "colab": {
      "name": "Apache_Beam_Workspace.ipynb",
      "provenance": [],
      "collapsed_sections": [],
      "authorship_tag": "ABX9TyMdlCk0o4mz2+3QvL92HDUa",
      "include_colab_link": true
    },
    "kernelspec": {
      "name": "python3",
      "display_name": "Python 3"
    },
    "language_info": {
      "name": "python"
    }
  },
  "cells": [
    {
      "cell_type": "markdown",
      "metadata": {
        "id": "view-in-github",
        "colab_type": "text"
      },
      "source": [
        "<a href=\"https://colab.research.google.com/github/gurucl/apache_beam_tutorial/blob/main/Apache_Beam_Workspace.ipynb\" target=\"_parent\"><img src=\"https://colab.research.google.com/assets/colab-badge.svg\" alt=\"Open In Colab\"/></a>"
      ]
    },
    {
      "cell_type": "code",
      "source": [
        "print('hello world!')"
      ],
      "metadata": {
        "id": "f9YvCFvzEnkz"
      },
      "execution_count": null,
      "outputs": []
    },
    {
      "cell_type": "code",
      "execution_count": null,
      "metadata": {
        "id": "yFiltdYwDd27"
      },
      "outputs": [],
      "source": [
        "! pip3 install apache_beam"
      ]
    },
    {
      "cell_type": "code",
      "source": [
        "! pwd\n",
        "! ls sample_data"
      ],
      "metadata": {
        "id": "gBVZxPEJEt8d"
      },
      "execution_count": null,
      "outputs": []
    },
    {
      "cell_type": "code",
      "source": [
        "import apache_beam as beam\n",
        "p1 = beam.Pipeline()\n",
        "output = ( p1 \n",
        "          | beam.io.ReadFromText(\"/content/sample_data/tiny_movies.csv\", skip_header_lines=1)\n",
        "          | beam.Map(lambda x: x.split(\",\"))\n",
        "       #   | beam.Sample.FixedSizeGlobally(5)\n",
        "         | beam.Filter(lambda x: float(x[3].strip()) > 8.8)\n",
        "        # | beam.io.WriteToText(\"sample_data/output\", \"result\", num_shards=3, header = \"Movie ID, Movie_Name, Year, Rating\", compression_type = beam.io.filesystem.CompressionTypes.GZIP )\n",
        "        # | beam.Map(print)\n",
        "          )\n",
        "p1.run()"
      ],
      "metadata": {
        "id": "7zVcG0LaKqgt"
      },
      "execution_count": null,
      "outputs": []
    },
    {
      "cell_type": "code",
      "source": [
        "import apache_beam as beam\n",
        "p1 = beam.Pipeline()\n",
        "\n",
        "schema1 = \"\"\" {\n",
        "   \"type\" : \"record\",\n",
        "   \"namespace\" : \"Tutorialspoint\",\n",
        "   \"name\" : \"Employee\",\n",
        "   \"fields\" : [\n",
        "      { \"name\" : \"Movie_id\" , \"type\" : \"string\" },\n",
        "      { \"name\" : \"Name\" , \"type\" : \"string\" },\n",
        "      { \"name\" : \"Year\" , \"type\" : \"string\" },\n",
        "      { \"name\" : \"Rating\" , \"type\" : \"string\" }\n",
        "   ]\n",
        "}\"\"\"\n",
        "output = ( p1 \n",
        "          | beam.io.ReadFromText(\"/content/sample_data/tiny_movies.csv\", skip_header_lines=1)\n",
        "          | beam.Map(lambda x: x.split(\",\"))\n",
        "       #   | beam.Sample.FixedSizeGlobally(5)\n",
        "         | beam.Filter(lambda x: float(x[3].strip()) > 8.8)\n",
        "        # | beam.io.WriteToText(\"sample_data/output\", \"result\", shard_name_template='-SS-NN', num_shards=3, header = \"Movie ID, Movie_Name, Year, Rating\", )\n",
        "          | beam.io.WriteToAvro(\"out\", schema = schema1)\n",
        "        # | beam.Map(print)\n",
        "          )\n",
        "p1.run()"
      ],
      "metadata": {
        "id": "CGR5D74bEGEB"
      },
      "execution_count": null,
      "outputs": []
    },
    {
      "cell_type": "code",
      "source": [
        "! cat sample_data/tiny_movies.csv"
      ],
      "metadata": {
        "id": "lBggsGyHBdSV"
      },
      "execution_count": null,
      "outputs": []
    },
    {
      "cell_type": "code",
      "source": [
        "import apache_beam as beam\n",
        "\n",
        "p1 = beam.Pipeline()\n",
        "\n",
        "result = (p1\n",
        "        | beam.Create([1,2,3,4,5,6,7,8,9,10])\n",
        "      #   | beam.Filter(lambda x: x%2==0)\n",
        "       | beam.Map(print)\n",
        "          )\n",
        "p1.run()\n",
        "\n"
      ],
      "metadata": {
        "id": "KoODh6f8K0L1"
      },
      "execution_count": null,
      "outputs": []
    },
    {
      "cell_type": "code",
      "source": [
        "import apache_beam as beam\n",
        "import re\n",
        "\n",
        "p1 = beam.Pipeline()\n",
        "\n",
        "list = [\"K\", \"G\", \"F\", \"Kolar\", \"and\", \"to\"]\n",
        "\n",
        "def get_details(str):\n",
        "  return True if str in list else False\n",
        "  # if str in list:\n",
        "  #   return True\n",
        "\n",
        "  \n",
        "  \n",
        "\n",
        "result = (\n",
        "    p1\n",
        "    | beam.io.ReadFromText(\"/content/sample_data/kgf_2.txt\")\n",
        "    | beam.FlatMap(lambda x: re.findall('[a-zA-Z]+', x))\n",
        "    | beam.Filter(get_details)\n",
        "    | beam.Map(lambda x: (x,1))\n",
        "    | beam.CombinePerKey(sum)\n",
        "    # | beam.Map(print)\n",
        "    | beam.io.WriteToText(\"/content/sample_data/words_output\")\n",
        "    \n",
        ")\n",
        "p1.run()\n",
        "\n"
      ],
      "metadata": {
        "colab": {
          "base_uri": "https://localhost:8080/"
        },
        "id": "3_caLs_IV2Qq",
        "outputId": "debce7af-3ca7-4084-ee3e-03886c8e75e6"
      },
      "execution_count": 52,
      "outputs": [
        {
          "output_type": "stream",
          "name": "stderr",
          "text": [
            "WARNING:root:Make sure that locally built Python SDK docker image has Python 3.7 interpreter.\n"
          ]
        },
        {
          "output_type": "execute_result",
          "data": {
            "text/plain": [
              "<apache_beam.runners.portability.fn_api_runner.fn_runner.RunnerResult at 0x7efe14d1cf50>"
            ]
          },
          "metadata": {},
          "execution_count": 52
        }
      ]
    },
    {
      "cell_type": "code",
      "source": [
        "import apache_beam as beam\n",
        "\n",
        "p1 = beam.Pipeline()\n",
        "\n",
        "movies_data = [\n",
        "               (1,\"Avenger\"),\n",
        "               (2,\"Infinity War\"),\n",
        "               (3,\"Winter Soldier\"),\n",
        "               (4,\"Thor - dark World\")\n",
        "]\n",
        "ratings_data = [\n",
        "                (1, 8.5),\n",
        "                (2, 9.1),\n",
        "                (3, 7.5),\n",
        "                (1, 8.9),\n",
        "                (2, 9.2) \n",
        "]\n",
        "\n",
        "movies = p1 |'reading Movies data' >> beam.Create(movies_data)\n",
        "ratings = p1 |'reading Ratings data' >> beam.Create(ratings_data)\n",
        "\n",
        "# joined_data = ( {'movie_name':movies, 'movie_ratings':ratings} \n",
        "#                |  beam.CoGroupByKey())  | beam.Map(print)\n",
        "#              #  | beam.Map(lambda x: (x[0], x[1][1][0], x[1][0]))\n",
        "              \n",
        "joined_data = ( {movies, ratings} \n",
        "               |  beam.CoGroupByKey()) | beam.Map(lambda x: (x[0], x[1][1][0], x[1][0], sum(x[1][0]), sum(x[1][0])/len(x[1][0]) if len(x[1][0])!=0 else 0 ))| beam.Map(print)\n",
        "\n",
        "p1.run()"
      ],
      "metadata": {
        "colab": {
          "base_uri": "https://localhost:8080/"
        },
        "id": "l6Wbj2gxc11J",
        "outputId": "ff7c19e6-4026-4431-84d8-277fe3e40bb4"
      },
      "execution_count": 63,
      "outputs": [
        {
          "output_type": "stream",
          "name": "stderr",
          "text": [
            "WARNING:root:Make sure that locally built Python SDK docker image has Python 3.7 interpreter.\n"
          ]
        },
        {
          "output_type": "stream",
          "name": "stdout",
          "text": [
            "(1, 'Avenger', [8.5, 8.9], 17.4, 8.7)\n",
            "(2, 'Infinity War', [9.1, 9.2], 18.299999999999997, 9.149999999999999)\n",
            "(3, 'Winter Soldier', [7.5], 7.5, 7.5)\n",
            "(4, 'Thor - dark World', [], 0, 0)\n"
          ]
        },
        {
          "output_type": "execute_result",
          "data": {
            "text/plain": [
              "<apache_beam.runners.portability.fn_api_runner.fn_runner.RunnerResult at 0x7efe148b98d0>"
            ]
          },
          "metadata": {},
          "execution_count": 63
        }
      ]
    },
    {
      "cell_type": "code",
      "source": [
        "import apache_beam as beam\n",
        "\n",
        "\n",
        "p1 = beam.Pipeline()\n",
        "\n",
        "def my_partition_fn(x, num_partitions):\n",
        "  return 0 if x%2==0 else 1\n",
        "\n",
        "result = (p1\n",
        "          | beam.Create(range(1,11))\n",
        "          | beam.Partition(my_partition_fn, 2)\n",
        "        )\n",
        "result[1] | beam.Map(print)\n",
        "\n",
        "p1.run()"
      ],
      "metadata": {
        "colab": {
          "base_uri": "https://localhost:8080/"
        },
        "id": "tAHW6T__ijhi",
        "outputId": "6286d1fe-dd47-4ef7-a63a-e1863c0f3b42"
      },
      "execution_count": 70,
      "outputs": [
        {
          "output_type": "stream",
          "name": "stderr",
          "text": [
            "WARNING:root:Make sure that locally built Python SDK docker image has Python 3.7 interpreter.\n"
          ]
        },
        {
          "output_type": "stream",
          "name": "stdout",
          "text": [
            "1\n",
            "3\n",
            "5\n",
            "7\n",
            "9\n"
          ]
        },
        {
          "output_type": "execute_result",
          "data": {
            "text/plain": [
              "<apache_beam.runners.portability.fn_api_runner.fn_runner.RunnerResult at 0x7efe14999710>"
            ]
          },
          "metadata": {},
          "execution_count": 70
        }
      ]
    },
    {
      "cell_type": "code",
      "source": [
        "import apache_beam as beam\n",
        "\n",
        "p1 = beam.Pipeline()\n",
        "\n",
        "odd = [1,3,5,7,9]\n",
        "even = [2,4,6,8]\n",
        "name = ['Ram', 'Rahim', 'Robert' ]\n",
        "\n",
        "odd_p1 = (p1| 'creating Odd PCollection' >> beam.Create(odd))\n",
        "even_p1 = (p1| 'creating Even PCollection' >> beam.Create(even))\n",
        "name_p1 = (p1| 'creating Name PCollection' >> beam.Create(name))\n",
        "\n",
        "( {odd_p1, even_p1, name_p1} | beam.Flatten()) | beam.Map(print)\n",
        "\n",
        "p1.run()\n",
        "\n",
        "\n"
      ],
      "metadata": {
        "colab": {
          "base_uri": "https://localhost:8080/"
        },
        "id": "LRiN6J2YkW6z",
        "outputId": "4e44c8cf-c403-429a-9b1c-0b09f8d03668"
      },
      "execution_count": 77,
      "outputs": [
        {
          "output_type": "stream",
          "name": "stderr",
          "text": [
            "WARNING:root:Make sure that locally built Python SDK docker image has Python 3.7 interpreter.\n"
          ]
        },
        {
          "output_type": "stream",
          "name": "stdout",
          "text": [
            "1\n",
            "3\n",
            "5\n",
            "7\n",
            "9\n",
            "2\n",
            "4\n",
            "6\n",
            "8\n",
            "Ram\n",
            "Rahim\n",
            "Robert\n"
          ]
        },
        {
          "output_type": "execute_result",
          "data": {
            "text/plain": [
              "<apache_beam.runners.portability.fn_api_runner.fn_runner.RunnerResult at 0x7efe1478bf90>"
            ]
          },
          "metadata": {},
          "execution_count": 77
        }
      ]
    },
    {
      "cell_type": "code",
      "source": [
        ""
      ],
      "metadata": {
        "id": "h3BiYlr4kpcf"
      },
      "execution_count": null,
      "outputs": []
    }
  ]
}